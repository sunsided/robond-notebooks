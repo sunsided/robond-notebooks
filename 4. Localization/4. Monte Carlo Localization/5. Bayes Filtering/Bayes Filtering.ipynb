{
 "cells": [
  {
   "cell_type": "markdown",
   "metadata": {},
   "source": [
    "# Bayes Filtering\n",
    "\n",
    "The powerful Monte Carlo localization algorithm estimates the posterior distribution of a robot’s position and orientation based on sensory information. This process is known as a **recursive Bayes filter**.\n",
    "\n",
    "Using a Bayes filtering approach, roboticists can estimate the **state** of a **dynamical system** from sensor **measurements**.\n",
    "\n",
    "In mobile robot localization, it’s important to be acquainted with the following definitions:\n",
    "\n",
    "- **Dynamical system:** The mobile robot and its environment\n",
    "- **State:** The robot’s pose, including its position and orientation.\n",
    "- **Measurements:** Perception data(e.g. laser scanners) and odometry data(e.g. rotary encoders)\n",
    "\n",
    "The goal of Bayes filtering is to estimate a probability density over the state space conditioned on the measurements. The probability density, or also known as posterior is called the belief and is denoted as:\n",
    "\n",
    "$$\n",
    "Bel(X_{t}) = P(X_{t} |Z_{1...t} )\n",
    "$$\n",
    "\n",
    "Where,\n",
    "\n",
    "- $X_t$: State at time t\n",
    "- $Z_{1...t}$: Measurements from time 1 up to time t"
   ]
  },
  {
   "cell_type": "markdown",
   "metadata": {},
   "source": [
    "## Probability\n",
    "\n",
    "Given a set of probabilities, $P(A|B)$ is calculated as follows:\n",
    "\n",
    "$$\n",
    "\\large P(A|B) = \\frac{P(B|A)*P(A)}{P(B)} = \\frac{P(B|A)*P(A)}{P(A)*P(B|A) + P(\\neg A)*P(B|\\neg A)}\n",
    "$$\n",
    "\n",
    "### Quiz:\n",
    "\n",
    "![](images/e2.png)\n",
    "\n",
    "This robot is located inside of a 1D hallway which has three doors. The robot doesn't know where it is located in this hallway, but it has sensors onboard that can tell it, with some amount of precision, whether it is standing in front of a door, or in front of a wall. The robot also has the ability to move around - with some precision provided by its odometry data. Neither the sensors nor the movement is perfectly accurate, but the robot aims to locate itself in this hallway.\n",
    "\n",
    "The mobile robot is now moving in the 1D hallway and collecting odometry and perception data. With the odometry data, the robot is keeping track of its current position. Whereas, with the perception data, the robot is identifying the presence of doors.\n",
    "\n",
    "In this quiz, we are aiming to calculate the state of the robot, given its measurements. This is known by the belief: **P(Xt|Z)!**\n",
    "\n",
    "**Given:**\n",
    "\n",
    "- **P(POS):** The probability of the robot being at the actual position\n",
    "- **P(DOOR|POS):** The probability of the robot seeing the door given that it’s in the actual position\n",
    "- **P(DOOR|¬POS):** The probability of the robot seeing the door given that it’s not in the actual position\n",
    "\n",
    "**Compute:**\n",
    "\n",
    "- **P(POS|DOOR):** The belief or the probability of the robot being at the actual position given that it’s seeing the door."
   ]
  },
  {
   "cell_type": "code",
   "execution_count": 1,
   "metadata": {},
   "outputs": [],
   "source": [
    "#include <iostream>\n",
    "using namespace std;"
   ]
  },
  {
   "cell_type": "code",
   "execution_count": 2,
   "metadata": {},
   "outputs": [],
   "source": [
    "void run() {\n",
    "\t// Given P(POS), P(DOOR|POS) and P(DOOR|¬POS)\n",
    "\tdouble a = 0.0002 ; //P(POS) = 0.002\n",
    "\tdouble b = 0.6    ; //P(DOOR|POS) = 0.6\n",
    "\tdouble c = 0.05   ; //P(DOOR|¬POS) = 0.05\n",
    "\t\n",
    "\t// Compute P(¬POS) and P(POS|DOOR)\n",
    "\tdouble d = 1-a ;                  //P(¬POS)\n",
    "\tdouble e =  (b*a)/((a*b)+(d*c)) ; //P(POS|DOOR)\n",
    "\t\n",
    "\tcout << \"P(POS|DOOR)= \" <<    e    << endl;\n",
    "\treturn 0;\n",
    "}"
   ]
  },
  {
   "cell_type": "code",
   "execution_count": 3,
   "metadata": {},
   "outputs": [
    {
     "name": "stdout",
     "output_type": "stream",
     "text": [
      "P(POS|DOOR)= 0.00239473\n"
     ]
    }
   ],
   "source": [
    "run()"
   ]
  }
 ],
 "metadata": {
  "kernelspec": {
   "display_name": "C++14",
   "language": "C++14",
   "name": "xcpp14"
  },
  "language_info": {
   "codemirror_mode": "text/x-c++src",
   "file_extension": ".cpp",
   "mimetype": "text/x-c++src",
   "name": "c++",
   "version": "14"
  }
 },
 "nbformat": 4,
 "nbformat_minor": 4
}
