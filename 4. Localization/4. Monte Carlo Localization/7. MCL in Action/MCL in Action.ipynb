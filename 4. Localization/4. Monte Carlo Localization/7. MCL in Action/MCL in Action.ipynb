{
 "cells": [
  {
   "cell_type": "markdown",
   "metadata": {},
   "source": [
    "# Monte-Carlo Localization in Action\n",
    "\n",
    "## MCL vs EKF in Action\n",
    "\n",
    "### 1 - MCL:\n",
    "\n",
    "![](images/l4-c7-mcl.png)\n",
    "\n",
    "#### At time:\n",
    "\n",
    "- **t=1**, Particles are drawn randomly and uniformly over the entire pose space.\n",
    "- **t=2**, Measurement is updated and an importance weight is assigned to each particle.\n",
    "- **t=3**, Motion is updated and a new particle set with uniform weights and high number of particles around the three most likely places is obtained in resampling.\n",
    "- **t=4**, Measurement assigns non-uniform weight to the particle set.\n",
    "- **t=5**, Motion is updated and a new resampling step is about to start."
   ]
  },
  {
   "cell_type": "markdown",
   "metadata": {},
   "source": [
    "### 2 - EKF:\n",
    "\n",
    "![](images/l4-c7-ekf.png)\n",
    "\n",
    "#### At time:\n",
    "\n",
    "- **t=1**, Initial belief represented by a Gaussian distribution around the first door.\n",
    "- **t=2**, Motion is updated and the new belief is represented by a shifted Gaussian of increased weight.\n",
    "- **t=3**, Measurement is updated and the robot is more certain of its location. The new posterior is represented by a Gaussian with a small variance.\n",
    "- **t=4**, Motion is updated and the uncertainty increases."
   ]
  },
  {
   "cell_type": "markdown",
   "metadata": {},
   "source": [
    "> Select concepts that are common to both the MCL and EKF algorithms\n",
    ">\n",
    "> ![](images/quiz-1.png)\n",
    ">\n",
    "> Both the EKF and MCL algorithms present motion and measurement stages. The MCL is unrestricted by any state space distribution but can also model Gaussian distribution same as the EKF."
   ]
  },
  {
   "cell_type": "markdown",
   "metadata": {},
   "source": [
    "> Which approach do you prefer?\n",
    ">\n",
    "> ![](images/quiz-2.png)\n",
    ">\n",
    "> In this example, we saw how a robot can be locally localized using either MCL or EKF. Thus, the choice of algorithms will almost always depend on your preference. Do remember that MCL has so many advantages and is easier to code. For implementation of the Markov and Grid localization algorithms for the 1D hallway example, refer to the [Probabilistic Robotics](http://www.probabilistic-robotics.org/) book by Sebastian Thrun!"
   ]
  }
 ],
 "metadata": {
  "kernelspec": {
   "display_name": "C++14",
   "language": "C++14",
   "name": "xcpp14"
  },
  "language_info": {
   "codemirror_mode": "text/x-c++src",
   "file_extension": ".cpp",
   "mimetype": "text/x-c++src",
   "name": "c++",
   "version": "14"
  }
 },
 "nbformat": 4,
 "nbformat_minor": 4
}
