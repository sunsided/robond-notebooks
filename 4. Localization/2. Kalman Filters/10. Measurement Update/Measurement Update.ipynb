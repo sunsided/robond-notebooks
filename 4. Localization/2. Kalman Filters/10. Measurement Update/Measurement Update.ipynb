{
 "cells": [
  {
   "cell_type": "markdown",
   "metadata": {},
   "source": [
    "# Measurement Update\n",
    "\n",
    "## Mean Calculation\n",
    "\n",
    "- $\\mu$: Mean of the prior belief\n",
    "- $\\sigma^{2}$: Variance of the prior belief\n",
    "- $v$: Mean of the measurement\n",
    "- $r^{2}$: Variance of the measurement"
   ]
  },
  {
   "cell_type": "markdown",
   "metadata": {},
   "source": [
    "## New Belief Quiz\n",
    "\n",
    "![](images/c2l2-a10-measurement-update-in-1d-quiz.00-00-46-29.still001.png)\n",
    "\n",
    "> Where do you think the robot's new belief will be?\n",
    ">\n",
    "> - [x] A\n",
    "> - [ ] B\n",
    "> - [ ] C\n",
    ">\n",
    "> That’s right!\n",
    "\n",
    "The new mean is a weighted sum of the prior belief and measurement means. With uncertainty, a larger number represents a more uncertain probability distribution. However, the new mean should be biased towards the measurement update, which has a smaller standard deviation than the prior. How do we accomplish this?\n",
    "\n",
    "$$\n",
    "\\large \\mu' = \\frac{r^2 \\mu + \\sigma^2 v}{r^2 + \\sigma^2}\n",
    "$$\n",
    "\n",
    "The answer is - the uncertainty of the prior is multiplied by the mean of the measurement, to give it more weight, and similarly the uncertainty of the measurement is multiplied with the mean of the prior. Applying this formula to our example generates a new mean of 27.5, which we can label on our graph below.\n",
    "\n",
    "![](images/c2l2-graph-1-v1.png)"
   ]
  },
  {
   "cell_type": "markdown",
   "metadata": {},
   "source": [
    "## Variance Calculation\n",
    "\n",
    "Next, we need to determine the variance of the new state estimate.\n",
    "\n",
    "> What do you think? Would the variance of the new state estimate be less confident than our prior, in between our prior and measurement, or more confident than our measurement?\n",
    ">\n",
    "> - [ ] Less confident than our prior.\n",
    "> - [ ] A confidence in between our prior and measurement.\n",
    "> - [x] More confident than our measurement.\n",
    ">\n",
    "> You’re right! That was a hard one, so give yourself a pat on the back for answering correctly!\n",
    "\n",
    "The two Gaussians provide us with more information together than either Gaussian offered alone. As a result, our new state estimate is more confident than our prior belief and our measurement. This means that it has a higher peak and is narrower. You can see this in the graph below.\n",
    "\n",
    "![](images/c2l2-graph-2.png)\n",
    "\n",
    "The formula for the new variance is presented below.\n",
    "\n",
    "$$\n",
    "\\large \\sigma^{2'} = \\frac{1}{\\frac{1}{r^2} + \\frac{1}{\\sigma^2}}\n",
    "$$\n",
    "\n",
    "Entering the variances from our example into this formula produces a new variance of 2.25. The new state estimate, often called the posterior, is drawn below.\n",
    "\n",
    "![](images/c2l2-graph-3.png)\n",
    "\n",
    "- $\\mu$: Mean of the prior belief\n",
    "- $\\sigma^{2}$: Variance of the prior belief\n",
    "\n",
    "- $v$: Mean of the measurement\n",
    "- $r^{2}$ Variance of the measurement\n",
    "\n",
    "- $\\tau$: Mean of the posterior\n",
    "- $s^{2}$: Variance of the posterior\n",
    "\n",
    "It’s time to implement these two formulas in C++. Place your code within a function called measurement_update, such that you can use it as a building block in your Kalman Filter implementation.\n",
    "\n",
    "When you’re done, calculate the posterior mean and variance for a prior of $N(x: μ_1=10, σ^2=8)$ and measurement $N(x: μ_2=13, σ^2=2)$. Is it what you expected?"
   ]
  },
  {
   "cell_type": "markdown",
   "metadata": {},
   "source": [
    "## Programming Quiz\n",
    "\n",
    "In this C++ code, the measurement update function returns two values: the newly computed mean and variance. Usually, a `tuple` or `struct` should be used in C++ to return more than one value from a function and easily assign them later to multiple variables. For more information on `tuples` and `structs` take a look at this [link](https://dzone.com/articles/returning-multiple-values-from-functions-in-c)."
   ]
  },
  {
   "cell_type": "code",
   "execution_count": 1,
   "metadata": {},
   "outputs": [],
   "source": [
    "#include <iostream>\n",
    "#include <math.h>\n",
    "#include <tuple>"
   ]
  },
  {
   "cell_type": "code",
   "execution_count": 2,
   "metadata": {},
   "outputs": [],
   "source": [
    "double new_mean, new_var;"
   ]
  },
  {
   "cell_type": "code",
   "execution_count": 4,
   "metadata": {},
   "outputs": [],
   "source": [
    "std::tuple<double, double> measurement_update(double mean1, double var1, double mean2, double var2)\n",
    "{\n",
    "    new_mean = (var2 * mean1 + var1 * mean2) / (var1 + var2);\n",
    "    new_var = 1 / (1 / var1 + 1 / var2);\n",
    "    return std::make_tuple(new_mean, new_var);\n",
    "}"
   ]
  },
  {
   "cell_type": "code",
   "execution_count": 5,
   "metadata": {},
   "outputs": [],
   "source": [
    "std::tie(new_mean, new_var) = measurement_update(10, 8, 13, 2);"
   ]
  },
  {
   "cell_type": "code",
   "execution_count": 6,
   "metadata": {},
   "outputs": [
    {
     "data": {
      "text/plain": [
       "12.400000"
      ]
     },
     "execution_count": 6,
     "metadata": {},
     "output_type": "execute_result"
    }
   ],
   "source": [
    "new_mean"
   ]
  },
  {
   "cell_type": "code",
   "execution_count": 7,
   "metadata": {},
   "outputs": [
    {
     "data": {
      "text/plain": [
       "1.6000000"
      ]
     },
     "execution_count": 7,
     "metadata": {},
     "output_type": "execute_result"
    }
   ],
   "source": [
    "new_var"
   ]
  },
  {
   "cell_type": "markdown",
   "metadata": {},
   "source": [
    "I encourage you to think about what the posterior Gaussian would look like for the following example, and even calculate the exact values using your measurement_update function.\n",
    "\n",
    "![](images/c2l2-graph-4-v2.png)"
   ]
  }
 ],
 "metadata": {
  "kernelspec": {
   "display_name": "C++14",
   "language": "C++14",
   "name": "xcpp14"
  },
  "language_info": {
   "codemirror_mode": "text/x-c++src",
   "file_extension": ".cpp",
   "mimetype": "text/x-c++src",
   "name": "c++",
   "version": "14"
  }
 },
 "nbformat": 4,
 "nbformat_minor": 4
}
