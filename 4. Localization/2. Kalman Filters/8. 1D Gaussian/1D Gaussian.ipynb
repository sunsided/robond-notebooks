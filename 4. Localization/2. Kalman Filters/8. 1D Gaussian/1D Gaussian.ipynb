{
 "cells": [
  {
   "cell_type": "markdown",
   "metadata": {},
   "source": [
    "# 1D Gaussian\n",
    "\n",
    "At the basis of the Kalman Filter is the Gaussian distribution, sometimes referred to as a bell curve or normal distribution. Recall the rover example - after executing one motion, the rover’s location was represented by a Gaussian. It’s exact location was not certain, but the level of uncertainty was bounded. It was unlikely that the rover would be more than a few meters away from its target location, and it would be nearly impossible for it to show up at the 50 meter mark.\n",
    "\n",
    "![](images/c2l2-a08-rover.png)"
   ]
  },
  {
   "cell_type": "markdown",
   "metadata": {},
   "source": [
    "This is the role of a Kalman Filter - after a movement or a measurement update, it outputs a unimodal Gaussian distribution. This is its best guess at the true value of a parameter.\n",
    "\n",
    "A Gaussian distribution is a probability distribution, which is a continuous function. The probability that a random variable, $x$, will take a value between $x_1$ and $x_2$ is given by the integral of the function from $x_1$ to $x_2$.\n",
    "\n",
    "$$\n",
    "p(x_1 < x < x_2) = \\int_{x_1}^{x_2}f_x(x)dx\n",
    "$$"
   ]
  },
  {
   "cell_type": "markdown",
   "metadata": {},
   "source": [
    "In the image below, the probability of the rover being located between 8.7m and 9m is 7%.\n",
    "    \n",
    "![](images/c2l2-a08-graph-.png)"
   ]
  },
  {
   "cell_type": "markdown",
   "metadata": {},
   "source": [
    "## Mean and Variance\n",
    "\n",
    "A Gaussian is characterized by two parameters - its mean (μ) and its variance (σ²). The mean is the most probable occurrence and lies at the centre of the function, and the variance relates to the width of the curve. The term unimodal implies a single peak present in the distribution.\n",
    "\n",
    "Gaussian distributions are frequently abbreviated as N(x: μ, σ²), and will be referred to in this way throughout the coming lessons.\n",
    "\n",
    "It's time for a quiz! Reference the image below to answer the quiz question.\n",
    "\n",
    "![](images/c2l2-a08-quiz.png)\n",
    "\n",
    "> **Question:** If you had to pick a Gaussian to represent the location of your rover, which of the following would you prefer?\n",
    ">\n",
    "> **Answer:** C\n",
    "\n",
    "The formula for the Gaussian distribution is printed below. Notice that the formula contains an exponential of a quadratic function. The quadratic compares the value of x to μ, and in the case that x=μ, the exponential is equal to 1 ($e^0 = 1$). You’ll note here, that the constant in front of the exponential is a necessary normalizing factor.\n",
    " \n",
    "$$\n",
    "\\huge p(x) = \\frac{1}{\\sigma\\sqrt{2\\pi}}e^{-\\frac{(x-\\mu)^2}{2\\sigma^2}}\n",
    "$$\n",
    "\n",
    "Just like with discrete probability, like a coin toss, the probabilities of all the options must sum to one. Therefore, the area underneath the function always sums to one.\n",
    "\n",
    "$$\n",
    "\\huge \\int p(x)dx = 1\n",
    "$$"
   ]
  },
  {
   "cell_type": "markdown",
   "metadata": {},
   "source": [
    "Now that you are familiar with the formula, it’s time to code the Gaussian in C++. This will allow you to calculate the probability of a value occurring given a mean and a variance!"
   ]
  },
  {
   "cell_type": "code",
   "execution_count": 1,
   "metadata": {},
   "outputs": [],
   "source": [
    "#include <iostream>\n",
    "#include <math.h>\n",
    "\n",
    "using namespace std;"
   ]
  },
  {
   "cell_type": "code",
   "execution_count": 2,
   "metadata": {},
   "outputs": [],
   "source": [
    "double f(double mu, double sigma2, double x)\n",
    "{\n",
    "    // Use mu, sigma2 (sigma squared), and x to code the 1-dimensional Gaussian\n",
    "    double prob = 1.0 / sqrt(2.0 * M_PI * sigma2) * exp(-0.5 * pow((x - mu), 2.0) / sigma2);\n",
    "    return prob;\n",
    "}"
   ]
  },
  {
   "cell_type": "code",
   "execution_count": 3,
   "metadata": {},
   "outputs": [
    {
     "data": {
      "text/plain": [
       "0.12098536"
      ]
     },
     "execution_count": 3,
     "metadata": {},
     "output_type": "execute_result"
    }
   ],
   "source": [
    "f(10.0, 4.0, 8.0)"
   ]
  },
  {
   "cell_type": "markdown",
   "metadata": {},
   "source": [
    "> What is represented by a Gaussian distribution? Check all that apply.\n",
    "> \n",
    "> - [x] Predicted Motion\n",
    "> - [x] Sensor Measurement\n",
    "> - [x] Estimated State of Robot\n",
    "> \n",
    "> That’s right, the Kalman Filter treats all noise as unimodal Gaussian. In reality, that’s not the case. However, the algorithm is optimal if the noise is Gaussian. The term optimal expresses that the algorithm minimizes the mean square error of the estimated parameters.\n",
    "\n",
    "Reference the following probability distribution to answer the quiz question below.\n",
    "\n",
    "![](images/last-graph-v1.png)\n",
    "\n",
    "> Can a state with this probability distribution be solved using the Kalman Filter?\n",
    "> \n",
    "> - [ ] Yes\n",
    "> - [x] No\n",
    ">\n",
    "> That’s right! The Kalman Filter can only be applied to states that are represented by a Gaussian distribution. We’ll use other algorithms to solve problems like the one above!"
   ]
  }
 ],
 "metadata": {
  "kernelspec": {
   "display_name": "C++14",
   "language": "C++14",
   "name": "xcpp14"
  },
  "language_info": {
   "codemirror_mode": "text/x-c++src",
   "file_extension": ".cpp",
   "mimetype": "text/x-c++src",
   "name": "c++",
   "version": "14"
  }
 },
 "nbformat": 4,
 "nbformat_minor": 4
}
