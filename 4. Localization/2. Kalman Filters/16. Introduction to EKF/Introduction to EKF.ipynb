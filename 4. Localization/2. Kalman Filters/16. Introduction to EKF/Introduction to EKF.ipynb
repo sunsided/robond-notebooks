{
 "cells": [
  {
   "cell_type": "markdown",
   "metadata": {},
   "source": [
    "# Introduction to Extended Kalman Filters\n",
    "\n",
    "**Additional Resources:** [Taylor series Wikipedia page](https://en.wikipedia.org/wiki/Taylor_series)\n",
    "\n",
    "## Summary\n",
    "\n",
    "The Kalman Filter is applicable to problems with linear motion and measurement functions. This is limiting, as much of the real world is nonlinear.\n",
    "\n",
    "A nonlinear function can be used to update the mean of a function,\n",
    "\n",
    "$$\n",
    "\\mu \\xrightarrow{f(x)} \\mu'\n",
    "$$\n",
    "\n",
    "but not the variance, as this would result in a non-Gaussian distribution which is much more computationally expensive to work with. To update the variance, the Extended Kalman Filter linearizes the nonlinear function f(x) over a small section and calls it F. This linearization, F, is then used to update the state's variance.\n",
    "\n",
    "$$\n",
    "P \\xrightarrow{F} P'\n",
    "$$ \n",
    "\n",
    "The linear approximation can be obtained by using the first two terms of the Taylor Series of the function centered around the mean.\n",
    "\n",
    "$$\n",
    "F = f(\\mu) + \\frac{\\delta f(\\mu)}{\\delta x}(x-\\mu)\n",
    "$$"
   ]
  }
 ],
 "metadata": {
  "kernelspec": {
   "display_name": "C++14",
   "language": "C++14",
   "name": "xcpp14"
  },
  "language_info": {
   "codemirror_mode": "text/x-c++src",
   "file_extension": ".cpp",
   "mimetype": "text/x-c++src",
   "name": "c++",
   "version": "14"
  }
 },
 "nbformat": 4,
 "nbformat_minor": 4
}
