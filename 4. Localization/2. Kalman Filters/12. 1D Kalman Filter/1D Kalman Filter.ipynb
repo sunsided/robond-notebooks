{
 "cells": [
  {
   "cell_type": "code",
   "execution_count": 2,
   "metadata": {},
   "outputs": [],
   "source": [
    "#include <iostream>\n",
    "#include <math.h>\n",
    "#include <tuple>\n",
    "\n",
    "using namespace std;"
   ]
  },
  {
   "cell_type": "code",
   "execution_count": 3,
   "metadata": {},
   "outputs": [],
   "source": [
    "double new_mean, new_var;"
   ]
  },
  {
   "cell_type": "code",
   "execution_count": 5,
   "metadata": {},
   "outputs": [],
   "source": [
    "std::tuple<double, double> measurement_update(double mean1, double var1, double mean2, double var2)\n",
    "{\n",
    "    new_mean = (var2 * mean1 + var1 * mean2) / (var1 + var2);\n",
    "    new_var = 1 / (1 / var1 + 1 / var2);\n",
    "    return make_tuple(new_mean, new_var);\n",
    "}"
   ]
  },
  {
   "cell_type": "code",
   "execution_count": 6,
   "metadata": {},
   "outputs": [],
   "source": [
    "std::tuple<double, double> state_prediction(double mean1, double var1, double mean2, double var2)\n",
    "{\n",
    "    new_mean = mean1 + mean2;\n",
    "    new_var = var1 + var2;\n",
    "    return make_tuple(new_mean, new_var);\n",
    "}"
   ]
  },
  {
   "cell_type": "code",
   "execution_count": 9,
   "metadata": {},
   "outputs": [],
   "source": [
    "void run(double mu, double sig)\n",
    "{\n",
    "    //Measurements and measurement variance\n",
    "    double measurements[5] = { 5, 6, 7, 9, 10 };\n",
    "    double measurement_sig = 4;\n",
    "    \n",
    "    //Motions and motion variance\n",
    "    double motion[5] = { 1, 1, 2, 1, 1 };\n",
    "    double motion_sig = 2;\n",
    "\n",
    "    for (int i = 0; i < sizeof(measurements) / sizeof(measurements[0]); i++) {\n",
    "        tie(mu, sig) = measurement_update(mu, sig, measurements[i], measurement_sig);\n",
    "        printf(\"update:  [%f, %f]\\n\", mu, sig);\n",
    "        tie(mu, sig) = state_prediction(mu, sig, motion[i], motion_sig);\n",
    "        printf(\"predict: [%f, %f]\\n\", mu, sig);\n",
    "    }\n",
    "\n",
    "    return 0;\n",
    "}"
   ]
  },
  {
   "cell_type": "code",
   "execution_count": 10,
   "metadata": {},
   "outputs": [
    {
     "name": "stdout",
     "output_type": "stream",
     "text": [
      "update:  [4.980080, 3.984064]\n",
      "predict: [5.980080, 5.984064]\n",
      "update:  [5.992019, 2.397446]\n",
      "predict: [6.992019, 4.397446]\n",
      "update:  [6.996198, 2.094659]\n",
      "predict: [8.996198, 4.094659]\n",
      "update:  [8.998121, 2.023388]\n",
      "predict: [9.998121, 4.023388]\n",
      "update:  [9.999063, 2.005830]\n",
      "predict: [10.999063, 4.005830]\n"
     ]
    }
   ],
   "source": [
    "//Initial state\n",
    "double mu = 0;\n",
    "double sig = 1000;\n",
    "\n",
    "run(mu, sig)"
   ]
  },
  {
   "cell_type": "markdown",
   "metadata": {},
   "source": [
    "### Additional Challenge\n",
    "\n",
    "You should try experimenting with different initial values - for instance changing the initial estimate to something absurd, and then adjusting the confidence value from 1000 down to a single digit number. At what point does the Kalman Filter start to be affected by the incorrect initial estimate? How robust is the filter to errors?"
   ]
  },
  {
   "cell_type": "code",
   "execution_count": 12,
   "metadata": {},
   "outputs": [
    {
     "name": "stdout",
     "output_type": "stream",
     "text": [
      "update:  [20.000000, 2.000000]\n",
      "predict: [21.000000, 4.000000]\n",
      "update:  [13.500000, 2.000000]\n",
      "predict: [14.500000, 4.000000]\n",
      "update:  [10.750000, 2.000000]\n",
      "predict: [12.750000, 4.000000]\n",
      "update:  [10.875000, 2.000000]\n",
      "predict: [11.875000, 4.000000]\n",
      "update:  [10.937500, 2.000000]\n",
      "predict: [11.937500, 4.000000]\n"
     ]
    }
   ],
   "source": [
    "run(35, 4)"
   ]
  },
  {
   "cell_type": "code",
   "execution_count": 13,
   "metadata": {},
   "outputs": [
    {
     "name": "stdout",
     "output_type": "stream",
     "text": [
      "update:  [52.500000, 2.000000]\n",
      "predict: [53.500000, 4.000000]\n",
      "update:  [29.750000, 2.000000]\n",
      "predict: [30.750000, 4.000000]\n",
      "update:  [18.875000, 2.000000]\n",
      "predict: [20.875000, 4.000000]\n",
      "update:  [14.937500, 2.000000]\n",
      "predict: [15.937500, 4.000000]\n",
      "update:  [12.968750, 2.000000]\n",
      "predict: [13.968750, 4.000000]\n"
     ]
    }
   ],
   "source": [
    "run(100, 4)"
   ]
  },
  {
   "cell_type": "code",
   "execution_count": 14,
   "metadata": {},
   "outputs": [
    {
     "name": "stdout",
     "output_type": "stream",
     "text": [
      "update:  [502.500000, 2.000000]\n",
      "predict: [503.500000, 4.000000]\n",
      "update:  [254.750000, 2.000000]\n",
      "predict: [255.750000, 4.000000]\n",
      "update:  [131.375000, 2.000000]\n",
      "predict: [133.375000, 4.000000]\n",
      "update:  [71.187500, 2.000000]\n",
      "predict: [72.187500, 4.000000]\n",
      "update:  [41.093750, 2.000000]\n",
      "predict: [42.093750, 4.000000]\n"
     ]
    }
   ],
   "source": [
    "run(1000, 4)"
   ]
  },
  {
   "cell_type": "code",
   "execution_count": 15,
   "metadata": {},
   "outputs": [
    {
     "name": "stdout",
     "output_type": "stream",
     "text": [
      "update:  [29.000000, 0.800000]\n",
      "predict: [30.000000, 2.800000]\n",
      "update:  [20.117647, 1.647059]\n",
      "predict: [21.117647, 3.647059]\n",
      "update:  [14.384615, 1.907692]\n",
      "predict: [16.384615, 3.907692]\n",
      "update:  [12.735409, 1.976654]\n",
      "predict: [13.735409, 3.976654]\n",
      "update:  [11.873171, 1.994146]\n",
      "predict: [12.873171, 3.994146]\n"
     ]
    }
   ],
   "source": [
    "run(35, 1)"
   ]
  },
  {
   "cell_type": "code",
   "execution_count": 16,
   "metadata": {},
   "outputs": [
    {
     "name": "stdout",
     "output_type": "stream",
     "text": [
      "update:  [5.119522, 3.984064]\n",
      "predict: [6.119522, 5.984064]\n",
      "update:  [6.047885, 2.397446]\n",
      "predict: [7.047885, 4.397446]\n",
      "update:  [7.022809, 2.094659]\n",
      "predict: [9.022809, 4.094659]\n",
      "update:  [9.011271, 2.023388]\n",
      "predict: [10.011271, 4.023388]\n",
      "update:  [10.005619, 2.005830]\n",
      "predict: [11.005619, 4.005830]\n"
     ]
    }
   ],
   "source": [
    "run(35, 1000)"
   ]
  }
 ],
 "metadata": {
  "kernelspec": {
   "display_name": "C++14",
   "language": "C++14",
   "name": "xcpp14"
  },
  "language_info": {
   "codemirror_mode": "text/x-c++src",
   "file_extension": ".cpp",
   "mimetype": "text/x-c++src",
   "name": "c++",
   "version": "14"
  }
 },
 "nbformat": 4,
 "nbformat_minor": 4
}
