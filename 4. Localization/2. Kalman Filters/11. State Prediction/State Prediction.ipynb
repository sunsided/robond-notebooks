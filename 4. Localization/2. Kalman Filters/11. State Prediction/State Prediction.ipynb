{
 "cells": [
  {
   "cell_type": "markdown",
   "metadata": {},
   "source": [
    "## State Prediction\n",
    "\n",
    "Posterior Mean:\n",
    "\n",
    "$$\n",
    "\\large \\mu' = \\mu_1 + \\mu_2\n",
    "$$\n",
    "\n",
    "Posterior Variance:\n",
    "\n",
    "$$\n",
    "\\large \\sigma^{2'} = \\sigma^2_1 + \\sigma^2_2\n",
    "$$"
   ]
  },
  {
   "cell_type": "code",
   "execution_count": 1,
   "metadata": {},
   "outputs": [],
   "source": [
    "#include <iostream>\n",
    "#include <math.h>\n",
    "#include <tuple>\n",
    "\n",
    "double new_mean, new_var;"
   ]
  },
  {
   "cell_type": "code",
   "execution_count": 2,
   "metadata": {},
   "outputs": [],
   "source": [
    "std::tuple<double, double> state_prediction(double mean1, double var1, double mean2, double var2)\n",
    "{\n",
    "    new_mean = mean1 + mean2;\n",
    "    new_var =  var1 + var2;\n",
    "    return std::make_tuple(new_mean, new_var);\n",
    "}"
   ]
  },
  {
   "cell_type": "code",
   "execution_count": 4,
   "metadata": {},
   "outputs": [],
   "source": [
    "std::tie(new_mean, new_var) = state_prediction(10, 4, 12, 4);"
   ]
  },
  {
   "cell_type": "code",
   "execution_count": 5,
   "metadata": {},
   "outputs": [
    {
     "data": {
      "text/plain": [
       "22.000000"
      ]
     },
     "execution_count": 5,
     "metadata": {},
     "output_type": "execute_result"
    }
   ],
   "source": [
    "new_mean"
   ]
  },
  {
   "cell_type": "code",
   "execution_count": 6,
   "metadata": {},
   "outputs": [
    {
     "data": {
      "text/plain": [
       "8.0000000"
      ]
     },
     "execution_count": 6,
     "metadata": {},
     "output_type": "execute_result"
    }
   ],
   "source": [
    "new_var"
   ]
  }
 ],
 "metadata": {
  "kernelspec": {
   "display_name": "C++14",
   "language": "C++14",
   "name": "xcpp14"
  },
  "language_info": {
   "codemirror_mode": "text/x-c++src",
   "file_extension": ".cpp",
   "mimetype": "text/x-c++src",
   "name": "c++",
   "version": "14"
  }
 },
 "nbformat": 4,
 "nbformat_minor": 4
}
