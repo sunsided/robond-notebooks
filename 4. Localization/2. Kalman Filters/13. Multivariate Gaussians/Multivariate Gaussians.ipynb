{
 "cells": [
  {
   "cell_type": "markdown",
   "metadata": {},
   "source": [
    "# Multivariate Gaussians\n",
    "\n",
    "Most robots that we would be interested in modeling are moving in more than one dimension. For instance, a robot on a plane would have an x & y position.\n",
    "\n",
    "The simple approach to take, would be to have a 1-dimensional Gaussian represent each dimension - one for the x-axis and one for the y-axis.\n",
    "\n",
    "Do you see any problems with this?\n",
    "\n",
    "> Why couldn't we use multiple 1-dimensional Gaussians to represent multi-dimensional systems?\n",
    ">\n",
    "> - [ ] We totally could!\n",
    "> - [ ] Sometimes we want to use different types of distributions (Uniform, Gaussian, Poisson) for different dimensions.\n",
    "> - [x] There may be correlations between dimensions that we would not be able to model by using independent 1-dimensional Gaussians.\n",
    ">\n",
    "> That's right!\n",
    "\n",
    "The image below depicts a two-dimensional Gaussian distribution.\n",
    "\n",
    "![](images/multivariate-gaussian.png)"
   ]
  },
  {
   "cell_type": "markdown",
   "metadata": {},
   "source": [
    "## Formulas for the Multivariate Gaussian\n",
    "\n",
    "### Mean\n",
    "\n",
    "The mean is now a vector,\n",
    "\n",
    "$$\n",
    "\\large \\mu = \\left[ \\begin{array}{c} \\mu_{x} \\\\ \\mu_{y} \\end{array} \\right]\t ]\n",
    "$$\n",
    "\n",
    "### Covariance\n",
    "\n",
    "And the multidimensional equivalent of variance is a covariance matrix,\n",
    "\n",
    "$$\n",
    "\\large \\Sigma = \\left[ \\begin{array}{cc} \\sigma_{x}^2 & \\sigma_{x}\\sigma_{y} \\\\ \\sigma_{y}\\sigma_{x} & \\sigma_{y}^2 \\end{array} \\right]\n",
    "$$\n",
    "\n",
    "Where $\\sigma_{x}^2$ and $\\sigma_{y}^2$ represent the variances, while $\\sigma_{y}\\sigma_{x}$ and $\\sigma_{x}\\sigma_{y}$ are correlation terms. These terms are non-zero if there is a correlation between the variance in one dimension and the variance in another. When that is the case, the Gaussian function looks 'skewed' when looked at from above.\n",
    "\n",
    "If we were to evaluate this mathematically, the eigenvalues and eigenvectors of the covariance matrix describe the amount and direction of uncertainty."
   ]
  },
  {
   "cell_type": "markdown",
   "metadata": {},
   "source": [
    "### Multivariate Gaussian\n",
    "\n",
    "Below is the formula for the multivariate Gaussian. Note that $x$ and $\\mu$ are vectors, and $\\Sigma$ is a matrix.\n",
    "\n",
    "$$\n",
    "\\large p(x) = \\frac{1}{(2\\pi)^{\\frac{D}{2}}|\\Sigma|^\\frac{1}{2}}e^{-\\frac{1}{2}(x-\\mu)^T\\Sigma^{-1}(x-\\mu)}\n",
    "$$\n",
    "\n",
    "If D=1, the formula simplifies to the formula for the one-dimensional Gaussian that you have seen before."
   ]
  }
 ],
 "metadata": {
  "kernelspec": {
   "display_name": "C++14",
   "language": "C++14",
   "name": "xcpp14"
  },
  "language_info": {
   "codemirror_mode": "text/x-c++src",
   "file_extension": ".cpp",
   "mimetype": "text/x-c++src",
   "name": "c++",
   "version": "14"
  }
 },
 "nbformat": 4,
 "nbformat_minor": 4
}
