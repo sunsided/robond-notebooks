{
 "cells": [
  {
   "cell_type": "markdown",
   "metadata": {},
   "source": [
    "# Resampling\n",
    "\n",
    "Suppose that you have 5 particles, each with an importance weight. **Compute** the probability of drawing each particle in the new set. Use the C++ coding section and follow the instructions to **print** the results.\n",
    "\n",
    "![](images/resampling.png)\n",
    "\n",
    "Note that this is resampling _with replacement_.\n",
    "\n",
    "![](images/08-resampling.00-01-58-15.still002.png)"
   ]
  },
  {
   "cell_type": "code",
   "execution_count": 1,
   "metadata": {},
   "outputs": [],
   "source": [
    "#include <iostream>"
   ]
  },
  {
   "cell_type": "code",
   "execution_count": 2,
   "metadata": {},
   "outputs": [],
   "source": [
    "double w[] = { 0.6, 1.2, 2.4, 0.6, 1.2 };\n",
    "double sum = 0;"
   ]
  },
  {
   "cell_type": "code",
   "execution_count": 3,
   "metadata": {},
   "outputs": [],
   "source": [
    "void ComputeProb(double w[], int n)\n",
    "{\n",
    "    for (int i = 0; i < n; i++) {\n",
    "        sum = sum + w[i];\n",
    "    }\n",
    "    for (int j = 0; j < n; j++) {\n",
    "        w[j] = w[j] / sum;\n",
    "        std::cout << \"P\" << j + 1 << \"=\" << w[j] << std::endl;\n",
    "    }\n",
    "}"
   ]
  },
  {
   "cell_type": "code",
   "execution_count": 4,
   "metadata": {},
   "outputs": [
    {
     "name": "stdout",
     "output_type": "stream",
     "text": [
      "P1=0.1\n",
      "P2=0.2\n",
      "P3=0.4\n",
      "P4=0.1\n",
      "P5=0.2\n"
     ]
    }
   ],
   "source": [
    "ComputeProb(w, sizeof(w) / sizeof(w[0]));"
   ]
  }
 ],
 "metadata": {
  "kernelspec": {
   "display_name": "C++14",
   "language": "C++14",
   "name": "xcpp14"
  },
  "language_info": {
   "codemirror_mode": "text/x-c++src",
   "file_extension": ".cpp",
   "mimetype": "text/x-c++src",
   "name": "c++",
   "version": "14"
  }
 },
 "nbformat": 4,
 "nbformat_minor": 4
}
