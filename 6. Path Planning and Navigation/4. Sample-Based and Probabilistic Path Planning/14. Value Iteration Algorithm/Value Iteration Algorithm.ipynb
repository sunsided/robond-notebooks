{
 "cells": [
  {
   "cell_type": "markdown",
   "metadata": {},
   "source": [
    "# Value Iteration Algorithm\n",
    "\n",
    "The process that we went through to determine the optimal policy for the mountainous environment was fairly straightforward, but it did take some intuition to identify which action was optimal for every state. In larger more complex environments, intuition may not be sufficient. In such environments, an algorithm should be applied to handle all computations and find the optimal solution to an MDP. One such algorithm is called the Value Iteration algorithm. Iteration is a key word here, and you’ll see just why!\n",
    "\n",
    "The Value Iteration algorithm will initialize all state utilities to some arbitrary value - say, zero. Then, it will iteratively calculate a more accurate state utility for each state, using $U(s) = R(s) + \\gamma max_a \\Sigma_{s'} T(s,a,s') U(s')$"
   ]
  },
  {
   "cell_type": "markdown",
   "metadata": {},
   "source": [
    "## Algorithm\n",
    "\n",
    "> $U′=0$\n",
    "> \n",
    "> $\\text{loop until } \\textit{close-enough}(U,U')$\n",
    "> \n",
    "> $\\quad U = U'$\n",
    "> \n",
    "> $\\quad \\text{for }s \\text{ in }S\\text{, do:}$\n",
    "> \n",
    "> $\\quad\\quad U(s) = R(s) + \\gamma max_a \\Sigma_{s'} T(s,a,s') U(s')$\n",
    "> \n",
    "> $\\text{return }U$\n",
    "\n",
    "With every iteration, the algorithm will have a more and more accurate estimate of each state’s utility. The number of iterations of the algorithm is dictated by a function $\\textit{close-enough}$ which detects convergence. One way to accomplish this is to evaluate the root mean square error,\n",
    "\n",
    "$$\n",
    "RMS = \\frac{1}{|S|} \\sqrt{\\sum_{s}(U(s) - U'(s))^2}\n",
    "$$\n",
    "\n",
    "Once this error is below a predetermined threshold, the result has converged sufficiently.\n",
    "\n",
    "$$\n",
    "RMS(U,U') < \\epsilon\n",
    "$$\n",
    "\n",
    "This algorithm finds the optimal policy to the MDP, regardless of what $U'$ is initialized to (although the efficiency of the algorithm will be affected by a poor $U'$)."
   ]
  }
 ],
 "metadata": {
  "kernelspec": {
   "display_name": "Python 3",
   "language": "python",
   "name": "python3"
  },
  "language_info": {
   "codemirror_mode": {
    "name": "ipython",
    "version": 3
   },
   "file_extension": ".py",
   "mimetype": "text/x-python",
   "name": "python",
   "nbconvert_exporter": "python",
   "pygments_lexer": "ipython3",
   "version": "3.8.2"
  }
 },
 "nbformat": 4,
 "nbformat_minor": 4
}
