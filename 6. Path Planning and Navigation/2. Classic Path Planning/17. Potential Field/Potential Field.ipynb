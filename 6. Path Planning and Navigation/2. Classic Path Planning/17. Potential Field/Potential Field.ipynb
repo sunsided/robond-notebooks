{
 "cells": [
  {
   "cell_type": "markdown",
   "metadata": {},
   "source": [
    "# Potential Field\n",
    "\n",
    "## Attractive Potential Field\n",
    "\n",
    "The attractive potential field is a function with the global minimum at the goal configuration. If a robot is placed at any point and required to follow the direction of steepest descent, it will end up at the goal configuration. This function does not need to be complicated, a simple quadratic function can achieve all of the requirements discussed above.\n",
    "\n",
    "$$\n",
    "f_{att}(\\textbf{x}) = \\nu_{att}(||\\textbf{x}-\\textbf{x}_{goal}||)^2\n",
    "$$\n",
    " \n",
    "\n",
    "Where $\\textbf{x}$ represents the robot’s current position, and $\\textbf{x}_{goal}$ the goal position. $\\nu$ is a scaling factor.\n",
    "\n",
    "A fragment of the attractive potential field is displayed in the image below.\n",
    "\n",
    "![](images/c5-l2-73-img-scalar-function-v2.png)"
   ]
  },
  {
   "cell_type": "markdown",
   "metadata": {},
   "source": [
    "## Repulsive Potential Field\n",
    "\n",
    "The repulsive potential field is a function that is equal to zero in free space, and grows to a large value near obstacles. One way to create such a potential field is with the function below.\n",
    "\n",
    "$$\n",
    "f_{rep} =\\left\\{ \\begin{array}{ll} \\nu _{rep} (\\frac{1}{\\rho(\\textbf{x})}-\\frac{1}{\\rho_{0}})^{2}\\ \\quad \\text{if}\\ \\rho\\leq \\rho_{0},\\\\ \\\\ 0 \\qquad\\qquad\\qquad\\quad \\ \\text{if}\\ \\rho > \\rho_{0}\\\\ \\end{array} \\right.\n",
    "$$\n",
    "\n",
    "Where the function $\\rho(\\textbf{x})$ returns the distance from the robot to its nearest obstacle, $\\rho_0$ is a scaling parameter that defines the reach of an obstacle’s repulsiveness, and $\\nu$ is a scaling parameter.\n",
    "\n",
    "An image of a repulsive potential field for an arbitrary configuration space is provided below.\n",
    "\n",
    "![](images/c5-l2-75-img-obstacles-function-v2.png)"
   ]
  },
  {
   "cell_type": "markdown",
   "metadata": {},
   "source": [
    "The value $\\rho_0$ controls how far from an obstacle the potential field will be non-zero, and how steep the area surrounding an obstacle will be.\n",
    "\n",
    "Past $\\rho_0$, the potential field is zero. Within a $\\rho_0$ distance of the obstacle, the potential field scales with proximity to the obstacle."
   ]
  },
  {
   "cell_type": "markdown",
   "metadata": {},
   "source": [
    "## Potential Field Sum\n",
    "\n",
    "The attractive and repulsive functions are summed to produce the potential field that is used to guide the robot from anywhere in the space to the goal. The image below shows the summation of the functions, and the image immediately after displays the final function.\n",
    "\n",
    "![](images/c5-l2-77-img-combination-v2.png)\n",
    "![](images/c5-l2-78-img-final-gradient-v2.png)\n",
    "\n",
    "Imagine placing a marble onto the surface of the function - from anywhere in the field it will roll in the direction of the goal without colliding with any of the obstacles (as long as $\\rho_0$ is set appropriately)!\n",
    "\n",
    "The gradient of the function dictates which direction the robot should move, and the speed can be set to be constant or scaled in relation to the distance between the robot and the goal."
   ]
  },
  {
   "cell_type": "markdown",
   "metadata": {},
   "source": [
    "## Problems with the Potential Field Method\n",
    "\n",
    "The potential field method is not without its faults - the method is neither complete nor optimal. In certain environments, the method will lead the robot to a **local minimum**, as opposed to the **global minimum**. The images below depict one such instance. Depending on where the robot commences, it may be led to the bottom of the smile.\n",
    "\n",
    "The image below depicts the configuration space, and the following image displays the corresponding potential field.\n",
    "\n",
    "![](images/c5-l2-83-img-local-minima-cspace-v2.png)\n",
    "![](images/c5-l2-84-img-local-minima-gradient-v1.png)\n",
    "\n",
    "The problem of a robot becoming stuck in a local minimum can be resolved by adding random walks, and other strategies that are commonly applied to gradient descent, but ultimately the method is not complete.\n",
    "\n",
    "The potential field method isn’t optimal either, as it may not always find the shortest (or cheapest) path from start to goal. The shortest path may not follow the path of steepest descent. In addition, potential field does not take into consideration the cost of every step."
   ]
  }
 ],
 "metadata": {
  "kernelspec": {
   "display_name": "Python 3",
   "language": "python",
   "name": "python3"
  },
  "language_info": {
   "codemirror_mode": {
    "name": "ipython",
    "version": 3
   },
   "file_extension": ".py",
   "mimetype": "text/x-python",
   "name": "python",
   "nbconvert_exporter": "python",
   "pygments_lexer": "ipython3",
   "version": "3.8.2"
  }
 },
 "nbformat": 4,
 "nbformat_minor": 4
}
