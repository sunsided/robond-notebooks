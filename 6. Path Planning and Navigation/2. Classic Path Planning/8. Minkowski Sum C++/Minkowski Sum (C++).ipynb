{
 "cells": [
  {
   "cell_type": "markdown",
   "metadata": {},
   "source": [
    "# Minkowski Sum (C++)\n",
    "\n",
    "Now that you've learned the Minkowski Sum, you'll get a chance to code it in C++!\n",
    "\n",
    "## Example\n",
    "\n",
    "![](images/minkowski-sum-initial.png)\n",
    "\n",
    "In this example, you can see two triangles - a blue and a red one. Let's suppose the robot is represented by a blue triangle and the obstacle is represented by a red triangle. Your task is to compute the configuration space **C** of robot **A** and obstacle **B** in C++.\n",
    "\n",
    "- **Robot:** Blue triangle denoted by A\n",
    "- **Obstacle:** Red triangle denoted by B"
   ]
  },
  {
   "cell_type": "code",
   "execution_count": 1,
   "metadata": {},
   "outputs": [],
   "source": [
    "#include <iostream>\n",
    "#include <vector>\n",
    "#include <algorithm>"
   ]
  },
  {
   "cell_type": "code",
   "execution_count": 2,
   "metadata": {},
   "outputs": [],
   "source": [
    "using namespace std;"
   ]
  },
  {
   "cell_type": "markdown",
   "metadata": {},
   "source": [
    "Print 2D vectors coordinate values:"
   ]
  },
  {
   "cell_type": "code",
   "execution_count": 3,
   "metadata": {},
   "outputs": [],
   "source": [
    "void print2DVector(vector<vector<int> > vec)\n",
    "{\n",
    "    // Sorting the vector for grading purpose\n",
    "    sort(vec.begin(), vec.end());\n",
    "\n",
    "    for (int i = 0; i < vec.size(); ++i) {\n",
    "        for (int j = 0; j < vec[0].size(); ++j) {\n",
    "                cout << vec[i][j] << \"  \";\n",
    "        }\n",
    "        cout << endl;\n",
    "    }\n",
    "}"
   ]
  },
  {
   "cell_type": "markdown",
   "metadata": {},
   "source": [
    "Check for duplicate coordinates inside a 2D vector and delete them:"
   ]
  },
  {
   "cell_type": "code",
   "execution_count": 4,
   "metadata": {},
   "outputs": [],
   "source": [
    "std::vector<std::vector<int> > delete_duplicate(vector<vector<int> > C)\n",
    "{\n",
    "    // Sort the C vector\n",
    "    sort(C.begin(), C.end());\n",
    "    // Initialize a non duplicated vector\n",
    "    vector<vector<int> > Cn;\n",
    "    for (int i = 0; i < C.size() - 1; i++) {\n",
    "        // Check if it's a duplicate coordinate\n",
    "        if (C[i] != C[i + 1]) {\n",
    "            Cn.push_back(C[i]);\n",
    "        }\n",
    "    }\n",
    "    Cn.push_back(C[C.size() - 1]);\n",
    "    return Cn;\n",
    "}"
   ]
  },
  {
   "cell_type": "markdown",
   "metadata": {},
   "source": [
    "Compute the Minkowski Sum of two vectors:"
   ]
  },
  {
   "cell_type": "code",
   "execution_count": 5,
   "metadata": {},
   "outputs": [],
   "source": [
    "std::vector<std::vector<int> > minkowski_sum(vector<vector<int> > A, vector<vector<int> > B)\n",
    "{\n",
    "    vector<vector<int> > C;\n",
    "    for (int i = 0; i < A.size(); i++) {\n",
    "        for (int j = 0; j < B.size(); j++) {\n",
    "            // Compute the current sum\n",
    "            vector<int> Ci = { A[i][0] + B[j][0], A[i][1] + B[j][1] };\n",
    "            // Push it to the C vector\n",
    "            C.push_back(Ci);\n",
    "        }\n",
    "    }\n",
    "    C = delete_duplicate(C);\n",
    "    return C;\n",
    "}"
   ]
  },
  {
   "cell_type": "code",
   "execution_count": 6,
   "metadata": {},
   "outputs": [
    {
     "name": "stdout",
     "output_type": "stream",
     "text": [
      "0  -1  \n",
      "0  1  \n",
      "1  -2  \n",
      "1  0  \n",
      "1  2  \n",
      "2  -1  \n",
      "2  1  \n"
     ]
    }
   ],
   "source": [
    "// Define the coordinates of triangle A and B using 2D vectors\n",
    "vector<vector<int> > A(3, vector<int>(2));\n",
    "A = {{ 1, 0 }, { 0, 1 }, { 0, -1 },};\n",
    "\n",
    "vector<vector<int> > B(3, vector<int>(2));\n",
    "B = {{ 0, 0 }, { 1, 1 }, { 1, -1 },};\n",
    "\n",
    "// Compute the minkowski sum of triangle A and B\n",
    "vector<vector<int> > C;\n",
    "C = minkowski_sum(A, B);\n",
    "\n",
    "// Print the resulting vector\n",
    "print2DVector(C);"
   ]
  },
  {
   "cell_type": "markdown",
   "metadata": {},
   "source": [
    "### Generated Configuration Space\n",
    "\n",
    "![](images/minkowski-sum-nonshifted.png)\n",
    "\n",
    "#### Translation\n",
    "\n",
    "You can easily notice that the red obstacle is not well inflated and the blue robot can still hit the obstacle. That's because the configuration space still has to be shifted to the obstacle.\n",
    "\n",
    "Initially, the robot should be translated to the obstacle, and then after computing the configuration space, it should be translated to both the robot and obstacle.\n",
    "\n",
    "#### Final Result\n",
    "\n",
    "![](images/minkowski-sum-final.png)\n",
    "\n",
    "Above is the resulting image where both the blue robot and the green configuration space have been shifted. You can now see the yellow padding which represents the translated configurations space all around the red obstacle. The blue robot will never be able to hit the red obstacle since it's well inflated.\n",
    "\n",
    "#### Plotting\n",
    "\n",
    "If you are eager to know how I generated these plots and translated the shapes, you can clone the [GitHub repo](https://github.com/udacity/RoboND-MinkowskiSum) and read through the C++ code. In short, I had to follow these steps to generate any polygon:\n",
    "\n",
    "- Computed the centroid of each polygon\n",
    "- Computed the angle of each point-centroid with respect to the x-axis\n",
    "- Sorted the points in ascending order of their angles (clockwise)\n",
    "- Plotted a line between each consecutive point"
   ]
  }
 ],
 "metadata": {
  "kernelspec": {
   "display_name": "C++14",
   "language": "C++14",
   "name": "xcpp14"
  },
  "language_info": {
   "codemirror_mode": "text/x-c++src",
   "file_extension": ".cpp",
   "mimetype": "text/x-c++src",
   "name": "c++",
   "version": "14"
  }
 },
 "nbformat": 4,
 "nbformat_minor": 4
}
